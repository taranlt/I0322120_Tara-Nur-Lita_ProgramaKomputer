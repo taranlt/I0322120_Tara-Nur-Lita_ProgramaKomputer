{
 "cells": [
  {
   "cell_type": "code",
   "execution_count": null,
   "metadata": {},
   "outputs": [],
   "source": [
    "print(input(\"Nama: \"))\n",
    "print(input(\"NIM: \"))\n",
    "print(input(\"Kelas: \"))"
   ]
  },
  {
   "attachments": {},
   "cell_type": "markdown",
   "metadata": {},
   "source": [
    "## 1."
   ]
  },
  {
   "attachments": {},
   "cell_type": "markdown",
   "metadata": {},
   "source": [
    "Buatlah program yang menampilkan salam “Selamat Pagi” dari berbagai negara {Inggris, Perancis, Italia, Spanyol, Jepang, Korea} dengan dua input dari user yaitu bahasa dan diikuti nama user.<br>\n",
    "<br>Ex : \n",
    "<br>\"Ohayou, Onii Chan\"\n",
    "> *note: Kerjakan soal ini dengan percabangan*"
   ]
  },
  {
   "cell_type": "code",
   "execution_count": 7,
   "metadata": {},
   "outputs": [
    {
     "name": "stdout",
     "output_type": "stream",
     "text": [
      "Good Morning, yaya\n"
     ]
    }
   ],
   "source": [
    "# Kerjakan soal nomor 1 disini\n",
    "\n",
    "Inggris     = \"Good Morning\"\n",
    "Perancis    = \"BonJour\"\n",
    "Italia      = \"Buongiorno\"\n",
    "Spanyol     = \"Buen día\"\n",
    "Jepang      = \"おはよう\"\n",
    "Korea       = \"좋은 아침이에요\"\n",
    "\n",
    "bahasa  = str(input('Pilih bahasa yang diinginkan (Inggris, Perancis, Italia, Spanyol, Jepang, Korea): '))\n",
    "nama    = str(input('Masukkan nama mu: '))\n",
    "\n",
    "if (bahasa.lower() == 'Inggris', 'inggris'):\n",
    "    print(f'{Inggris}, {nama}')\n",
    "elif (bahasa.lower() == 'Perancis', 'perancis'):\n",
    "    print(f'{Perancis}, {nama}')\n",
    "elif (bahasa.lower() == 'Italia', 'italia'):\n",
    "    print(f'{Italia}, {nama}')\n",
    "elif (bahasa.lower() == 'Spanyol', 'spanyol'):\n",
    "    print(f'{Spanyol}, {nama}')\n",
    "elif (bahasa.lower() == 'Jepang', 'jepang'):\n",
    "    print(f'{Jepang}, {nama}')\n",
    "elif (bahasa.lower() == 'Korea', 'korea'):\n",
    "    print(f'{Korea}, {nama}')"
   ]
  },
  {
   "attachments": {},
   "cell_type": "markdown",
   "metadata": {},
   "source": [
    "## 2."
   ]
  },
  {
   "attachments": {},
   "cell_type": "markdown",
   "metadata": {},
   "source": [
    "Buatlah program perhitungan umur dengan menggunakan input user yaitu tahun lahir dari user.<br>\n",
    "<br>Output yang dihasilkan adalah sebagai berikut:\n",
    "<br>\"Apakah anda berasal dari masa depan?\"\n",
    "<br>\"Anda barusaja lahir\"\n",
    "<br>\"Umur Anda adalah xx tahun\"\n",
    "> *note: Kerjakan soal ini dengan percabangan*"
   ]
  },
  {
   "cell_type": "code",
   "execution_count": 8,
   "metadata": {},
   "outputs": [
    {
     "name": "stdout",
     "output_type": "stream",
     "text": [
      "Umur Anda adalah 19 tahun\n"
     ]
    }
   ],
   "source": [
    "# Kerjakan soal nomor 2 disini\n",
    "tahun = int(input('Tahun berpakah Anda lahir? '))\n",
    "\n",
    "if (tahun > 2023):\n",
    "    print('Apakah Anda berasal dari masa depang?')\n",
    "elif (tahun == 2023):\n",
    "    print('Anda baru saja lahir')\n",
    "else:\n",
    "    print(f'Umur Anda adalah {2023 - tahun} tahun')"
   ]
  }
 ],
 "metadata": {
  "kernelspec": {
   "display_name": "Python 3",
   "language": "python",
   "name": "python3"
  },
  "language_info": {
   "codemirror_mode": {
    "name": "ipython",
    "version": 3
   },
   "file_extension": ".py",
   "mimetype": "text/x-python",
   "name": "python",
   "nbconvert_exporter": "python",
   "pygments_lexer": "ipython3",
   "version": "3.10.8"
  },
  "orig_nbformat": 4
 },
 "nbformat": 4,
 "nbformat_minor": 2
}
